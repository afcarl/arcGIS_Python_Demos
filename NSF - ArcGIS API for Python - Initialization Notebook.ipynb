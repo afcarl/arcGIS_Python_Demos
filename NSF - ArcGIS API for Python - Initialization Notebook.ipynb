{
 "cells": [
  {
   "cell_type": "markdown",
   "metadata": {},
   "source": [
    "# ArcGIS API for Python - Initialization Notebook"
   ]
  },
  {
   "cell_type": "markdown",
   "metadata": {},
   "source": [
    "## Run this notebook first, and in the background, to enable all ArcGIS widgets in Jupyter"
   ]
  },
  {
   "cell_type": "markdown",
   "metadata": {},
   "source": [
    "*This material will be included in the ESRI specific environments*"
   ]
  },
  {
   "cell_type": "markdown",
   "metadata": {},
   "source": [
    "Replace Files"
   ]
  },
  {
   "cell_type": "code",
   "execution_count": 3,
   "metadata": {},
   "outputs": [
    {
     "name": "stdout",
     "output_type": "stream",
     "text": [
      "cp: omitting directory './widget_hotfix/__pycache__'\n",
      "cp: omitting directory './widget_hotfix/__pycache__'\n"
     ]
    }
   ],
   "source": [
    "!cp ./widget_hotfix/* ../conda/share/jupyter/nbextensions/arcgis\n",
    "!cp ./widget_hotfix/* ../conda/lib/python3.6/site-packages/arcgis/widgets"
   ]
  },
  {
   "cell_type": "markdown",
   "metadata": {},
   "source": [
    "Install widgets"
   ]
  },
  {
   "cell_type": "code",
   "execution_count": 4,
   "metadata": {
    "collapsed": true
   },
   "outputs": [],
   "source": [
    "%%capture \n",
    "# Install jupyter dashboard [ to move to environment script, skip capture as well for dockerfile]\n",
    "# While loading this from Jupyter Notebook, please refresh browser after executing this cell\n",
    "!pip install jupyter_dashboards\n",
    "!jupyter nbextension install --py jupyter_dashboards --user\n",
    "!jupyter nbextension enable jupyter_dashboards --user --py\n",
    "!jupyter nbextension enable --py --sys-prefix widgetsnbextension\n"
   ]
  },
  {
   "cell_type": "markdown",
   "metadata": {},
   "source": [
    "Reload the browser..."
   ]
  },
  {
   "cell_type": "code",
   "execution_count": 5,
   "metadata": {
    "collapsed": true
   },
   "outputs": [],
   "source": [
    "# Actually reload the browser"
   ]
  },
  {
   "cell_type": "markdown",
   "metadata": {},
   "source": [
    "Verify map"
   ]
  },
  {
   "cell_type": "code",
   "execution_count": 6,
   "metadata": {},
   "outputs": [
    {
     "data": {
      "application/vnd.jupyter.widget-view+json": {
       "model_id": "1504d0843b2746efbcf0450fd5a68fa0"
      }
     },
     "metadata": {},
     "output_type": "display_data"
    }
   ],
   "source": [
    "import arcgis\n",
    "from IPython.display import display\n",
    "gis = arcgis.gis.GIS()\n",
    "my_map = gis.map(\"Reston\")\n",
    "my_map"
   ]
  },
  {
   "cell_type": "markdown",
   "metadata": {},
   "source": [
    "A scrollable map should appear above. \n",
    "\n",
    "Leave this notebook/kernel running in the background while the session is alive, all subsequent notebooks should be able to display the ArcGIS widget. "
   ]
  },
  {
   "cell_type": "markdown",
   "metadata": {},
   "source": [
    "# Alternative Method\n",
    "\n",
    "Each time you load a new kernel, run: \n",
    "\n",
    "`%load widget_hotfix.py`"
   ]
  },
  {
   "cell_type": "code",
   "execution_count": null,
   "metadata": {
    "collapsed": true
   },
   "outputs": [],
   "source": []
  }
 ],
 "metadata": {
  "kernelspec": {
   "display_name": "Python 3",
   "language": "python",
   "name": "python3"
  },
  "language_info": {
   "codemirror_mode": {
    "name": "ipython",
    "version": 3
   },
   "file_extension": ".py",
   "mimetype": "text/x-python",
   "name": "python",
   "nbconvert_exporter": "python",
   "pygments_lexer": "ipython3",
   "version": "3.6.2"
  }
 },
 "nbformat": 4,
 "nbformat_minor": 2
}
