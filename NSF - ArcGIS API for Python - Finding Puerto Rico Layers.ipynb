{
 "cells": [
  {
   "cell_type": "markdown",
   "metadata": {
    "extensions": {
     "jupyter_dashboards": {
      "version": 1,
      "views": {
       "grid_default": {
        "col": 0,
        "height": 4,
        "hidden": false,
        "row": 0,
        "width": 4
       },
       "report_default": {
        "hidden": false
       }
      }
     }
    }
   },
   "source": [
    "### Working with arcgis_content search"
   ]
  },
  {
   "cell_type": "code",
   "execution_count": 4,
   "metadata": {
    "collapsed": true,
    "extensions": {
     "jupyter_dashboards": {
      "version": 1,
      "views": {
       "grid_default": {
        "hidden": true
       },
       "report_default": {
        "hidden": true
       }
      }
     }
    }
   },
   "outputs": [],
   "source": [
    "from arcgis.gis import GIS\n",
    "\n",
    "# Create an anonymous connection to ArcGIS Online\n",
    "arcgis_online = GIS()"
   ]
  },
  {
   "cell_type": "markdown",
   "metadata": {
    "extensions": {
     "jupyter_dashboards": {
      "version": 1,
      "views": {
       "grid_default": {
        "col": 4,
        "height": 4,
        "hidden": false,
        "row": 0,
        "width": 4
       },
       "report_default": {
        "hidden": false
       }
      }
     }
    }
   },
   "source": [
    "Find recent maps related to HOTOSM Mapping (Puerto Rico)"
   ]
  },
  {
   "cell_type": "code",
   "execution_count": 5,
   "metadata": {
    "extensions": {
     "jupyter_dashboards": {
      "version": 1,
      "views": {
       "grid_default": {
        "col": 8,
        "height": 16,
        "hidden": false,
        "row": 0,
        "width": 4
       },
       "report_default": {
        "hidden": false
       }
      }
     }
    }
   },
   "outputs": [
    {
     "name": "stdout",
     "output_type": "stream",
     "text": [
      "hotosm\n",
      "17\n"
     ]
    },
    {
     "data": {
      "text/plain": [
       "[<Item title:\"Base Data Tonga Roads OpenStreetMap Export\" type:Feature Layer Collection owner:pxd_eaglegis>,\n",
       " <Item title:\"Missing Maps, Haiti\" type:Web Mapping Application owner:jmclaughlin>,\n",
       " <Item title:\" HOTOSM Puerto Rico Buildings (OpenStreetMap Export)\" type:Feature Layer Collection owner:dattaway_HurricaneIrma>,\n",
       " <Item title:\"HOTOSM Puerto Rico Roads - Lines (OpenStreetMap Export)\" type:Feature Layer Collection owner:dattaway_HurricaneIrma>,\n",
       " <Item title:\"HOTOSM Puerto Rico Roads - Polygons (OpenStreetMap Export)\" type:Feature Layer Collection owner:dattaway_HurricaneIrma>,\n",
       " <Item title:\" HOTOSM Puerto Rico Points of Interest - Points (OpenStreetMap Export)\" type:Feature Layer Collection owner:dattaway_HurricaneIrma>,\n",
       " <Item title:\"HOTOSM Puerto Rico Points of Interest - Polygons (OpenStreetMap Export)\" type:Feature Layer Collection owner:dattaway_HurricaneIrma>,\n",
       " <Item title:\"HOTOSM Puerto Rico Waterways - Lines (OpenStreetMap Export)\" type:Feature Layer Collection owner:dattaway_HurricaneIrma>,\n",
       " <Item title:\"HOTOSM Puerto Rico Waterways - Polygons (OpenStreetMap Export) \" type:Feature Layer Collection owner:dattaway_HurricaneIrma>,\n",
       " <Item title:\"PR_Road_Trimble_Final\" type:Feature Layer Collection owner:georgec_Standbytaskforce>,\n",
       " <Item title:\"Congo Basin logging roads\" type:Feature Layer Collection owner:GlobalForestWatch>,\n",
       " <Item title:\"PR_HotOSM_Roads_with_Region_Dissolved\" type:Feature Layer Collection owner:georgec_Standbytaskforce>,\n",
       " <Item title:\"PR_HotOSM_Roads_with_Region_Dissolved\" type:Shapefile owner:georgec_Standbytaskforce>,\n",
       " <Item title:\"Missing Map Project-Mzuzu Boundary\" type:Web Map owner:BSCJgrp1>,\n",
       " <Item title:\"HT_CholeraHotspots_PostMatthew\" type:Feature Layer Collection owner:Nick_Fury>,\n",
       " <Item title:\"Afghanistan Earthquake\" type:Web Map owner:Michael.Krueger@hdrinc.com_HDR>,\n",
       " <Item title:\"October 2015 Hindu Kush Region Earthquake\" type:Web Mapping Application owner:Michael.Krueger@hdrinc.com_HDR>]"
      ]
     },
     "execution_count": 5,
     "metadata": {},
     "output_type": "execute_result"
    }
   ],
   "source": [
    "# Pick a search term and grab top 10 resources, sorted by date\n",
    "max_items=50\n",
    "text_query = \"hotosm\"\n",
    "query = text_query\n",
    "print(query)\n",
    "sort_field=\"modified\"     # sort by date\n",
    "\n",
    "\n",
    "search_pts = arcgis_online.content.search(query=query,max_items=max_items,sort_field=sort_field)\n",
    "type(search_pts)\n",
    "print(len(search_pts))\n",
    "search_pts"
   ]
  },
  {
   "cell_type": "markdown",
   "metadata": {
    "extensions": {
     "jupyter_dashboards": {
      "version": 1,
      "views": {
       "grid_default": {
        "col": 0,
        "height": 4,
        "hidden": false,
        "row": 4,
        "width": 4
       },
       "report_default": {
        "hidden": false
       }
      }
     }
    }
   },
   "source": [
    "Identify specific interest area"
   ]
  },
  {
   "cell_type": "code",
   "execution_count": 6,
   "metadata": {
    "extensions": {
     "jupyter_dashboards": {
      "version": 1,
      "views": {
       "grid_default": {
        "col": 4,
        "height": 8,
        "hidden": false,
        "row": 4,
        "width": 4
       },
       "report_default": {
        "hidden": false
       }
      }
     }
    }
   },
   "outputs": [
    {
     "data": {
      "text/html": [
       "<div class=\"item_container\" style=\"height: auto; overflow: hidden; border: 1px solid #cfcfcf; border-radius: 2px; background: #f6fafa; line-height: 1.21429em; padding: 10px;\">\n",
       "                    <div class=\"item_left\" style=\"width: 210px; float: left;\">\n",
       "                       <a href='http://www.arcgis.com/home/item.html?id=48c4c1fb8e494951a2ad5aa90f2f5a1f' target='_blank'>\n",
       "                        <img src='http://www.arcgis.com/sharing/rest//content/items/48c4c1fb8e494951a2ad5aa90f2f5a1f/info/thumbnail/thumbnail.png' class=\"itemThumbnail\">\n",
       "                       </a>\n",
       "                    </div>\n",
       "\n",
       "                    <div class=\"item_right\"     style=\"float: none; width: auto; overflow: hidden;\">\n",
       "                        <a href='http://www.arcgis.com/home/item.html?id=48c4c1fb8e494951a2ad5aa90f2f5a1f' target='_blank'><b> HOTOSM Puerto Rico Buildings (OpenStreetMap Export)</b>\n",
       "                        </a>\n",
       "                        <br/>OpenStreetMap exports for use in GIS applications.<img src='http://www.arcgis.com/home/js/jsapi/esri/css/images/item_type_icons/featureshosted16.png' style=\"vertical-align:middle;\">Feature Layer Collection by dattaway_HurricaneIrma\n",
       "                        <br/>Last Modified: October 31, 2017\n",
       "                        <br/>0 comments, 13 views\n",
       "                    </div>\n",
       "                </div>\n",
       "                "
      ],
      "text/plain": [
       "<Item title:\" HOTOSM Puerto Rico Buildings (OpenStreetMap Export)\" type:Feature Layer Collection owner:dattaway_HurricaneIrma>"
      ]
     },
     "execution_count": 6,
     "metadata": {},
     "output_type": "execute_result"
    }
   ],
   "source": [
    "# hone in on interest area\n",
    "search_pts[2]"
   ]
  },
  {
   "cell_type": "markdown",
   "metadata": {
    "extensions": {
     "jupyter_dashboards": {
      "version": 1,
      "views": {
       "grid_default": {
        "col": 0,
        "height": 4,
        "hidden": false,
        "row": 8,
        "width": 4
       },
       "report_default": {
        "hidden": false
       }
      }
     }
    }
   },
   "source": [
    "Add features and map"
   ]
  },
  {
   "cell_type": "code",
   "execution_count": 7,
   "metadata": {
    "extensions": {
     "jupyter_dashboards": {
      "version": 1,
      "views": {
       "grid_default": {
        "col": 0,
        "height": 15,
        "hidden": false,
        "row": 16,
        "width": null
       },
       "report_default": {
        "hidden": false
       }
      }
     }
    }
   },
   "outputs": [
    {
     "data": {
      "application/vnd.jupyter.widget-view+json": {
       "model_id": "8712b97aa1184b2b969b5112e6ea2cb2"
      }
     },
     "metadata": {},
     "output_type": "display_data"
    }
   ],
   "source": [
    "# Add features and map\n",
    "roads_dissolved = search_pts[2]\n",
    "\n",
    "# Add to a map\n",
    "subset_map = arcgis_online.map(\"Puerto Rico\",zoomlevel=10)\n",
    "\n",
    "\n",
    "subset_map.add_layer(roads_dissolved)\n",
    "\n",
    "subset_map"
   ]
  },
  {
   "cell_type": "code",
   "execution_count": 8,
   "metadata": {
    "collapsed": true,
    "extensions": {
     "jupyter_dashboards": {
      "version": 1,
      "views": {
       "grid_default": {
        "hidden": true
       },
       "report_default": {
        "hidden": true
       }
      }
     }
    }
   },
   "outputs": [],
   "source": [
    "# access as data frame \n",
    "# df = roads_dissolved.layers[0].query().df\n",
    "# df.head()"
   ]
  },
  {
   "cell_type": "code",
   "execution_count": null,
   "metadata": {
    "collapsed": true
   },
   "outputs": [],
   "source": []
  }
 ],
 "metadata": {
  "extensions": {
   "jupyter_dashboards": {
    "activeView": "report_default",
    "version": 1,
    "views": {
     "grid_default": {
      "cellMargin": 10,
      "defaultCellHeight": 20,
      "maxColumns": 12,
      "name": "grid",
      "type": "grid"
     },
     "report_default": {
      "name": "report",
      "type": "report"
     }
    }
   }
  },
  "kernelspec": {
   "display_name": "Python 3",
   "language": "python",
   "name": "python3"
  },
  "language_info": {
   "codemirror_mode": {
    "name": "ipython",
    "version": 3
   },
   "file_extension": ".py",
   "mimetype": "text/x-python",
   "name": "python",
   "nbconvert_exporter": "python",
   "pygments_lexer": "ipython3",
   "version": "3.6.2"
  }
 },
 "nbformat": 4,
 "nbformat_minor": 2
}
